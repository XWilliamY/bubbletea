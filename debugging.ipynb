{
 "cells": [
  {
   "cell_type": "code",
   "execution_count": 123,
   "metadata": {},
   "outputs": [],
   "source": [
    "import plotly.express as px\n",
    "import json\n",
    "\n",
    "import pandas as pd\n",
    "from pyelp import Pyelp\n",
    "from utils import get_keys"
   ]
  },
  {
   "cell_type": "code",
   "execution_count": 12,
   "metadata": {},
   "outputs": [],
   "source": [
    "%load_ext autoreload\n",
    "%autoreload 2"
   ]
  },
  {
   "cell_type": "code",
   "execution_count": 14,
   "metadata": {},
   "outputs": [],
   "source": [
    "key = get_keys('key.json')['key']\n",
    "client = Pyelp(key)"
   ]
  },
  {
   "cell_type": "code",
   "execution_count": null,
   "metadata": {},
   "outputs": [],
   "source": [
    "# to find businesses that meet term and location, endpoint=\"search\"\n",
    "# to look up reviews, need id/reviews\n",
    "# a = client.query_businesses(\"FKjAriOhhGZJSlkqrk8zWg/reviews\")\n",
    "response = client.query_all_businesses('search',\n",
    "                                       limit=50, term='bubble tea', location='Flushing, New York', radius=40000)"
   ]
  },
  {
   "cell_type": "code",
   "execution_count": 98,
   "metadata": {},
   "outputs": [
    {
     "data": {
      "text/plain": [
       "Index(['Unnamed: 0', 'id', 'alias', 'name', 'image_url', 'is_closed', 'url',\n",
       "       'review_count', 'categories', 'rating', 'coordinates', 'transactions',\n",
       "       'location', 'phone', 'display_phone', 'distance', 'price'],\n",
       "      dtype='object')"
      ]
     },
     "execution_count": 98,
     "metadata": {},
     "output_type": "execute_result"
    }
   ],
   "source": [
    "df.columns"
   ]
  },
  {
   "cell_type": "code",
   "execution_count": 108,
   "metadata": {},
   "outputs": [],
   "source": [
    "with open('original_data', 'w') as fout:\n",
    "    json.dump(response, fout)"
   ]
  },
  {
   "cell_type": "code",
   "execution_count": 111,
   "metadata": {},
   "outputs": [],
   "source": [
    "with open('original_data', 'r') as fin:\n",
    "    data = json.load(fin)"
   ]
  },
  {
   "cell_type": "code",
   "execution_count": 139,
   "metadata": {},
   "outputs": [],
   "source": [
    "original=data"
   ]
  },
  {
   "cell_type": "code",
   "execution_count": 149,
   "metadata": {},
   "outputs": [],
   "source": [
    "data = []\n",
    "for biz in original:\n",
    "    for category in biz['categories']:\n",
    "        if 'bubbletea' in category.values():\n",
    "            data.append(biz)\n",
    "            break"
   ]
  },
  {
   "cell_type": "code",
   "execution_count": 151,
   "metadata": {},
   "outputs": [
    {
     "name": "stdout",
     "output_type": "stream",
     "text": [
      "423 1000\n"
     ]
    }
   ],
   "source": [
    "print(len(data), len(original))"
   ]
  },
  {
   "cell_type": "code",
   "execution_count": 153,
   "metadata": {},
   "outputs": [],
   "source": [
    "name_lat_long = [(name, lat, long) for name, lat, long in zip([n['name'] for n in data],\n",
    "                                                              [la['coordinates']['latitude'] for la in data],\n",
    "                                                              [lon['coordinates']['longitude'] for lon in data])]"
   ]
  },
  {
   "cell_type": "code",
   "execution_count": null,
   "metadata": {},
   "outputs": [],
   "source": []
  },
  {
   "cell_type": "code",
   "execution_count": 155,
   "metadata": {},
   "outputs": [
    {
     "data": {
      "application/vnd.plotly.v1+json": {
       "config": {
        "plotlyServerURL": "https://plotly.com"
       },
       "data": [
        {
         "hovertemplate": "<b>%{hovertext}</b><br><br>lat=%{lat}<br>lon=%{lon}<extra></extra>",
         "hovertext": [
          "Chun Yang Tea - Flushing New York",
          "Xing Fu Tang",
          "CoCo Fresh Tea & Juice",
          "Song Tea",
          "Boba Guys",
          "Tiger Sugar",
          "One Zo - New York",
          "Moge Tee - Bayside",
          "BAMBU",
          "Shiny Tea",
          "Truedan",
          "KOI Thé",
          "Debutea",
          "Tea and Milk",
          "Kung Fu Tea",
          "The Teapsy New York",
          "Momo Ashi",
          "The Alley",
          "Surreal Creamery",
          "CoCo Fresh Tea & Juice",
          "Coco Fresh Tea & Juice",
          "Bar Pa Tea",
          "Kung Fu Tea",
          "La Mian Lounge",
          "Möge Tee - Flushing",
          "Tiger Sugar",
          "Yi Fang Taiwan Fruit Tea",
          "Dragon Horn Tea",
          "Möge Tee",
          "Boba Fries",
          "Vivi Bubble Tea",
          "M Tea",
          "Boba Guys",
          "CoCo Fresh Tea & Juice",
          "Sweet Cats Cafe",
          "The Alley",
          "I Milky 沐白",
          "Teazzi Tea Shop",
          "Möge Tee - Fort Lee",
          "YanYan Tea",
          "Bubbleology",
          "Yaya Tea Garden",
          "Tidal Tea",
          "Yi Fang Taiwan Fruit Tea",
          "Meet Fresh",
          "Brew Memories",
          "Efresh",
          "One More Charm",
          "Kung Fu Tea",
          "TSAôCAA",
          "Macao Imperial Tea",
          "mellow tea",
          "ÜMACHA",
          "Mr.Wish",
          "Yum Ice Cream&Bubble Tea",
          "Sip N' Play",
          "Hawa Smoothies and Bubble Tea",
          "Boba Fix",
          "Gong Cha - Little Neck",
          "KOI Thé",
          "ViVi Bubble Tea",
          "Gong Cha",
          "Happy Lemon",
          "Mr.Green",
          "Something Sweet",
          "Mr. Wish",
          "Koryodang",
          "Master Grill",
          "TenIchi Mart",
          "Swan Crepe",
          "INFINITEA NY",
          "OJBK Tea Shop",
          "Vivi Bubble Tea",
          "Mi Tea",
          "Bubble Hut",
          "Gong Cha",
          "Yaya Tea Garden",
          "Hero Tang Tea",
          "Anda Cafe",
          "Moge Tee",
          "Vivi Bubble Tea",
          "Juicy Cube",
          "Summer",
          "Gotcha Cafe",
          "Coco Fresh Tea & Juice",
          "M Tea",
          "Mi Tea",
          "TSAôCAA",
          "Tiger Sugar",
          "Vivi Bubble Tea",
          "Anda Cafe",
          "Crepe N Tearia",
          "With Sugar and Tea",
          "Modern Tea Shop",
          "PaTea",
          "Yummy Boba Desserts",
          "Vivi Bubble Tea",
          "MomenTea Kitchen",
          "BIAO Sugar",
          "Yifang Taiwan Fruit Tea",
          "Gong Cha",
          "Moge Tee Brooklyn",
          "Cocohodo",
          "Chatime",
          "Gong Cha",
          "TKK Fried Chicken Queens Crossing",
          "Bubble Shop",
          "Yaya Tea Garden",
          "Bobba Hubba",
          "MomenTea",
          "Hawa Smoothies & Bubble Tea",
          "Bobaloca Bubble Tea and Coffee House",
          "QBubble",
          "Avenue Coffee House",
          "Juice Up",
          "Kudo Society Cafe",
          "Ten Ren's Tea Time",
          "Coco Fresh Tea & Juice",
          "TBaar",
          "Manny's Sweet Treats",
          "168 Hi Tea",
          "Tiger Hill",
          "Lincredibowl",
          "Poke Bowl",
          "Star Cafe",
          "Creep City Ninja Bubble Tea",
          "Kung Fu Tea",
          "Panda Bubble Tea",
          "Kung Fu Tea",
          "Möge Tee - Fifth Ave",
          "Tea Magic",
          "Waffle & Bubble",
          "Mr. Wish",
          "IF Cha Tea",
          "TKK Fried Chicken",
          "Chun Yang Tea Chinatown",
          "Gong Cha",
          "Vivi Bubble Tea",
          "Yifang Taiwan Fruit Tea",
          "Teadora",
          "Coco Fresh Tea & Juice",
          "ViVi Bubble Tea",
          "Gong Cha",
          "ViVi Bubble Tea",
          "The Whale Tea",
          "Mee Cafe",
          "Urban Leaf Cafe",
          "Mi Tea",
          "Vivi Bubble Tea",
          "Ollies To Go",
          "Mavi's Pizza and Pasta",
          "Gong Cha",
          "Catmint Wheel Cake",
          "ViVi bubble tea",
          "Kung Fu Tea",
          "BoBo Z Bakery",
          "Anda Cafe",
          "Tiger Tea",
          "Vivi Bubble Tea",
          "Gong Cha",
          "Q Tea Tapas",
          "Kung Fu Tea",
          "Banhmigos",
          "Macao Imperial Tea",
          "Village Tea Shop",
          "Squarrel Cafe",
          "Hawa smoothie & Bubble tea",
          "Teado Tea Shop",
          "Hawa Smoothies & Bubble Tea",
          "Mudflow Tea House",
          "ViVi Bubble Tea",
          "Möge Tee Greenwich Village",
          "TBaar",
          "Beijing Dumpling House",
          "Namas Tea",
          "Boba Guys",
          "Tornado Crepe",
          "Yifang Taiwan Fruit Tea",
          "Pata Cafe",
          "Ho Ho Té",
          "Moge Tee",
          "Mocktails & Dreams",
          "Kung Fu Tea",
          "Kung Fu Tea",
          "Song's Dumplings Cafe",
          "Sugar Story 2",
          "U Tea",
          "Pig Pig Cafe",
          "Vivi Bubble Tea",
          "Cloud 9 Crepes",
          "Uncle Drink",
          "Asian Fusion",
          "Bubbly Tea",
          "Siips Bubble",
          "Gong Cha",
          "Kung Fu Tea",
          "Hanco's",
          "Initial Tea",
          "Tornado Crepe",
          "In Cha",
          "Coco Fresh Tea & Juice",
          "Jupioca",
          "Momochai",
          "Kissena Cafe",
          "Lupe’s Jugos",
          "High Tea House",
          "Banh Mi Place",
          "Sagoto BubbleTea World",
          "Newkirk Fruit",
          "Culture Tea Bar",
          "Juicy Cube",
          "Kung Fu Tea",
          "Panda Bubble Tea",
          "Gong Cha",
          "Hanco's",
          "Hibachi & Noodle",
          "Vivi Bubble Tea",
          "Vivi Bubble Tea",
          "Kenko Asian Cuisine",
          "Modern China Teashop",
          "Sweet Adele's",
          "Kung Fu Tea",
          "Cool Fresh Juice Bar",
          "CoCo Fresh Tea & Juice",
          "Cool Fresh Juice Bar",
          "Chickchat Fusion Kitchen",
          "harmony",
          "Barley Time",
          "Korean BBQ Grill",
          "Moge Tee Newport",
          "Something Sweet",
          "Boba Dumbo",
          "Coco Fresh Tea & Juice",
          "Gong Cha",
          "Banhmigos",
          "Taiwan Bear House",
          "Go Greenly",
          "Gong Cha",
          "Real Fruit Bubble Tea",
          "Gong Cha",
          "Ama Coffee",
          "Something Sweet",
          "Waffle & Bubble",
          "Kung Fu Tea",
          "Boba Land",
          "Kung Fu Tea",
          "Gong Cha",
          "Gong Cha",
          "Uptown Poke",
          "Hawa Smoothies & Bubble Tea",
          "Boba Le Tea Cafe",
          "ViVi Bubble Tea",
          "Vivi Bubble Tea",
          "Gong Cha",
          "V3nom Cafe & Lounge",
          "Jupioca",
          "Mitea forest hills",
          "39 Kings Cafe 利苑食坊",
          "TBaar",
          "Vivi Bubble Tea",
          "Banhmigos",
          "Mei Mei Restaurant",
          "Lil M Bubble Tea",
          "Cheesecake Diva",
          "Utepia Tea",
          "Oolong Tea & Poke Bowl",
          "YiFang Taiwan Fruit Tea",
          "Dulce Delights",
          "TBaar",
          "Kung Fu Tea",
          "Jupioca",
          "Elly's Place - Sunrise Market",
          "Bubble Tea",
          "Möge Tee",
          "Jupioca",
          "Vivi Bubble Tea",
          "SoHo Eatery",
          "Creations Frozen Yogurt & Smoothies",
          "Desserts18",
          "Hawa Smoothie & Bubble Tea",
          "Sashimi Ramen Express",
          "Kazia Rae's Restaurant",
          "Yummy Machi",
          "Mi Tea",
          "YiFang Taiwan Fruit Tea",
          "Juice Vitality",
          "Pot Pot Noodle & Tea Cafe",
          "CoCo Fresh Tea & Juice",
          "CoCo Fresh Tea & Juice",
          "Kung Fu Tea",
          "Lucky Rolls",
          "U-Crew Thai Creamery & Tea",
          "Vivi Bubble Tea",
          "Woodside Rainbow Bakery",
          "Cafe De Flore",
          "PokéBowl Station",
          "Yo Health",
          "Kung Fu Tea",
          "Vivi Bubble Tea",
          "Remedy Lounge and Cafe",
          "Gong Cha",
          "Gong Cha",
          "80's Tea",
          "Chau Down Cafe",
          "Le Moment",
          "Kung Fu Tea",
          "TBaar",
          "Pop Pot Noodle & Tea Spot",
          "Kung Fu Tea",
          "Yaya Tea Garden",
          "CoCo Fresh Tea & Juice",
          "CoCo Fresh Tea & Juice",
          "Jupioca",
          "Home",
          "Tornado Crepe",
          "Bubblion",
          "Kung Fu Tea",
          "Sashimi Express II",
          "YinYang Coffee & Tea",
          "Banhmigos",
          "CoCo Fresh Tea & Juice",
          "Blueberry Frozen Yogurt",
          "Hanco's",
          "Sweetie House",
          "Lee Lee",
          "House Malaysian",
          "ZRolls Ice Cream",
          "Halo Kitchen & Lounge",
          "CoCo Fresh Tea & Juice",
          "Kung Fu Tea",
          "ChowTime",
          "Bee Cafe",
          "Savory Thai",
          "Juice Vitality",
          "Kung Fu Tea",
          "Babo Teahouse",
          "Pink Forest",
          "Kung Fu Tea",
          "Mojoilla",
          "iGrill",
          "Vivi Bubble Tea",
          "Me-Do Desserts",
          "Vivi Bubble Tea",
          "Fancy Juice",
          "Gong Cha",
          "Drink Tea",
          "Kung Fu Tea",
          "The Pretzel Twister",
          "Gong Cha",
          "CoCo Fresh Tea & Juice",
          "Kung Fu Tea",
          "JJ Great Tea",
          "Bibille",
          "Kung Fu Tea",
          "Coco Fresh Tea & Juice",
          "Earnest Tea Cafe",
          "Fulton Thai",
          "Lotus Vietnamese Sandwiches",
          "G & J Bubble Tea",
          "Vivi Bubble Tea",
          "ViVi Bubble Tea",
          "Mars Tea",
          "Arnor Crepes & Bubble Tea",
          "Gong Cha",
          "Sweetea",
          "Hawaii Poke Bowl",
          "Kung Fu Tea",
          "Hawa Smoothies",
          "Mask Hotpot Galatea",
          "PokéBowl Station",
          "Cafe Pilipino",
          "Kung Fu Tea",
          "Tan-Cha",
          "Vivi Bubble Tea",
          "Bread & Joe",
          "Tbaar",
          "Hong Kong Kei One",
          "Poke Station",
          "Sakai Ramen",
          "Vivi Bubble Tea",
          "Ajisen Ramen",
          "Vivi Bubble Tea",
          "Max Bakery and Restaurant",
          "Asia Grill",
          "Poke Time",
          "Formosa Cafe",
          "Poke n' Ramen 360",
          "Bao by Kaya",
          "Taiwan Station",
          "Vivi Bubble Tea",
          "Kung Fu Tea",
          "Vivi Bubble Tea",
          "Express Tea Shop",
          "Gong Cha",
          "Kung Fu Tea",
          "Chinese Gourmet",
          "Sunmerry Bakery",
          "D&M Bakery Inc.",
          "E's Cake Shop",
          "Kung Fu Tea",
          "TBaar",
          "Sakura Japan",
          "Cornerstone Café",
          "Silk Road Cafe",
          "Bubble Panda",
          "Sweet & Savory Cafe",
          "Sweets Bakery",
          "Caffebene",
          "Gong Cha",
          "Go Greenly",
          "Teatime Metro",
          "Ten Ren Tea",
          "Teas' Tea",
          "Hu's Teashop",
          "TBaar",
          "Tbaar",
          "Cream Coffee & Tea Shop",
          "Tea & Burger",
          "TBaar",
          "Pastry Bakery",
          "Minus Celsius Ice Cream",
          "C Fruit Life",
          "Lian Sheng Restaurant"
         ],
         "lat": [
          40.758001,
          40.75816,
          40.774776,
          40.760441,
          40.720657,
          40.75918,
          40.7328790403907,
          40.760879,
          40.71697,
          40.79823,
          40.7191742,
          40.72932,
          40.729188,
          40.75904,
          40.75407,
          40.7658014094971,
          40.7642746295096,
          40.7292878143919,
          40.742016,
          40.759092,
          40.7391127,
          40.721430826492,
          40.76204,
          40.7631278063422,
          40.7607111511042,
          40.717151,
          40.758735,
          40.70853,
          40.7497805,
          40.7432094,
          40.84337,
          40.761704,
          40.71897,
          40.75958,
          40.723314,
          40.7601296749072,
          40.7513413,
          40.7371,
          40.85235,
          40.759241,
          40.7271610773145,
          40.7192268371582,
          40.819199,
          40.74782,
          40.72807,
          40.667755,
          40.7519122334391,
          40.66983,
          40.7606726,
          40.759908,
          40.74766,
          40.81106,
          40.816273,
          40.78748,
          40.9108799,
          40.668095,
          40.7663425495287,
          40.723368,
          40.76995,
          40.7357,
          40.7593397667085,
          40.7602238538863,
          40.758811,
          40.6598028866019,
          40.74315,
          40.7092903,
          40.7612795529455,
          40.805913,
          40.687784,
          40.688307,
          40.77185,
          40.69395,
          40.756965,
          40.7205497,
          40.7010745,
          40.767984,
          40.7384,
          40.75762,
          40.7430580638732,
          40.75538,
          40.7868153,
          40.7602119445801,
          40.7353499,
          40.6081742507666,
          40.8260586816766,
          40.715361,
          40.7594571,
          40.63639,
          40.6358699982869,
          40.7404822760514,
          40.7613116,
          40.7262611,
          40.7591669024439,
          40.76178,
          40.73306,
          40.63776,
          40.76002,
          40.7551628731681,
          40.7483,
          40.72905,
          40.8506348129876,
          40.6374006368069,
          40.9723529,
          40.740429,
          40.759645,
          40.76096,
          41.00904,
          40.7162999,
          40.74586,
          40.73882,
          40.7086323296893,
          40.790097,
          40.7832581,
          40.74246,
          40.844345,
          40.85112,
          40.7163819,
          40.9094014884328,
          40.7415872384194,
          40.74912,
          40.7228515,
          40.76027,
          40.7628916957546,
          40.658161,
          40.74012,
          40.711205,
          40.747517,
          40.766984,
          40.764001,
          40.74555,
          40.7793834898764,
          40.7919610959615,
          40.679953856395,
          40.7401526014217,
          40.73999,
          40.71617,
          40.7332246,
          40.76722,
          40.75257,
          40.62975,
          40.77769,
          40.732567,
          40.7104199,
          40.72767,
          40.733212,
          40.713053,
          40.82873,
          40.72965,
          40.743579864502,
          40.771918,
          40.852023,
          40.7523752091444,
          40.7299296059476,
          40.740478,
          40.7207393248928,
          41.09451,
          40.74072,
          40.75994,
          40.7743607,
          40.7474575532982,
          40.8515995838956,
          40.68066,
          40.6756340357915,
          40.71789,
          40.9783906,
          40.68444,
          40.76164,
          40.7172143,
          40.692105,
          40.63775,
          40.7601737,
          40.728499,
          40.759362,
          40.7043147,
          40.67264,
          40.73014,
          40.7478287,
          40.71545,
          40.7326341,
          40.7614,
          40.73646,
          40.72605,
          40.6894028198824,
          40.773065,
          40.7101967,
          40.75308,
          40.710478,
          40.633719,
          40.6906,
          40.68188,
          40.757323090934,
          40.952041,
          40.715291,
          40.730121,
          40.7603003092784,
          40.855773,
          40.6870318621828,
          40.69076,
          40.701784884781,
          40.6366,
          40.7370489,
          40.77038,
          40.7457553530764,
          40.7395042,
          40.751321,
          40.6,
          40.6732865,
          40.73444,
          40.6354599,
          40.81293,
          40.7782207169156,
          40.730662,
          40.76579,
          40.7572289,
          40.666319,
          40.74969333,
          40.722753,
          40.57138,
          40.663700229997,
          40.6350291054898,
          40.7404077,
          40.74336,
          40.73155,
          40.75263,
          40.7981,
          40.74604,
          40.79535,
          40.63734,
          40.909017,
          40.72867,
          40.604613,
          40.703444,
          40.621235,
          40.74299,
          40.6741804392653,
          40.7147185237041,
          40.986319,
          40.738153,
          40.91572,
          40.6323327,
          40.7007287451446,
          40.57155,
          40.76868,
          40.7051869,
          40.844346,
          40.7375709,
          40.607978,
          40.69147,
          40.78676,
          40.73063,
          40.625103,
          40.6301168586612,
          40.73634,
          40.734805,
          40.72536,
          40.7093735039234,
          40.72069,
          40.7594773,
          40.7503,
          40.715099,
          40.69111,
          40.8699376483647,
          40.612858,
          40.63249,
          40.71673,
          40.7902956,
          40.7408555,
          40.872642,
          40.59885,
          40.598612,
          40.6998901367188,
          40.710927,
          40.7179604,
          40.7153871398041,
          40.6325078902031,
          40.73797,
          40.719167,
          40.8789887858575,
          40.61475,
          40.715759,
          40.772239,
          40.4535293997215,
          40.626408,
          40.603705,
          40.63677,
          40.704818,
          40.70836,
          40.718847,
          40.753285959363,
          40.62083,
          40.8937953113406,
          40.7495468,
          40.7161132862826,
          40.7453041,
          40.8567850448382,
          40.60413,
          40.744223,
          40.84303,
          40.64515,
          40.7437943,
          40.80323,
          40.84733,
          40.611541,
          40.6897703,
          40.7264,
          40.759175,
          40.7517150903614,
          40.69123,
          40.74002,
          40.600059,
          40.760509821085,
          40.70983,
          40.6919,
          40.672176,
          40.700023,
          40.8060861214461,
          40.72885,
          40.77068,
          40.74083,
          40.54152,
          40.74017,
          41.099753,
          40.694767,
          40.63968,
          40.6409454345703,
          40.82529,
          40.74653,
          40.688606,
          40.7534,
          40.6020257678793,
          40.576542,
          40.7475304,
          40.71395,
          40.72966,
          40.6100473432545,
          40.726618303051,
          40.7193406921021,
          40.717113,
          40.713856,
          41.0929881649604,
          40.5989469959451,
          40.6038799,
          40.7136955955471,
          40.7254537056505,
          40.916919,
          40.642509,
          40.8047,
          40.6996894,
          40.715752,
          40.71656,
          41.097151,
          40.93894967,
          41.07618,
          40.9181941,
          40.71414,
          40.63538,
          40.683459,
          40.675468,
          40.6133693507069,
          40.75255,
          40.6121425789567,
          40.60413,
          40.6105715,
          40.75214,
          40.63781,
          40.6133250651476,
          40.7477882966671,
          40.7180955809494,
          40.759362,
          40.68114,
          40.731,
          40.7538,
          40.63811,
          40.73057,
          40.66485,
          40.6049999,
          40.5376089,
          40.84303,
          40.623464,
          40.6353426844309,
          40.74661,
          40.618653,
          40.7507795280278,
          40.785433554993,
          41.06683333,
          40.64023,
          40.72605,
          40.727173413639,
          40.639566,
          40.602259323006,
          40.6380363231817,
          40.718181,
          40.7571781241867,
          40.63664,
          40.7415872384194,
          40.7636099299241,
          40.852658,
          40.7169822045653,
          40.611049,
          40.71777,
          40.7613116,
          40.7405413723477,
          40.7449576628613,
          40.714702,
          40.759611,
          40.6509511393644,
          40.717286,
          40.8347509,
          40.713893,
          41.014908,
          40.75893,
          40.7164175,
          40.8162536621094,
          40.7480917509622,
          40.6392784,
          40.759357,
          40.6332643,
          40.61821,
          40.63342,
          40.7474403,
          40.7176,
          40.7593169,
          40.6368565751912
         ],
         "legendgroup": "",
         "lon": [
          -73.8299476772982,
          -73.82982,
          -73.732666,
          -73.830381,
          -73.984542,
          -73.83041,
          -73.9877050369978,
          -73.769338,
          -73.99471,
          -73.9695,
          -73.9962197,
          -74.00126,
          -73.9993244,
          -73.92631,
          -73.65736833,
          -73.9191635864046,
          -73.7712760729056,
          -73.9909341307257,
          -73.977582,
          -73.76909,
          -73.7916629,
          -73.996737,
          -73.76976,
          -73.9279485723007,
          -73.8306283092162,
          -73.998231,
          -73.8310282,
          -74.013628,
          -73.9415148,
          -73.8830931,
          -74.0014,
          -73.8314553,
          -74.00102,
          -73.8305,
          -73.799678,
          -73.8327264543844,
          -73.9864468,
          -73.99582,
          -73.96984,
          -73.831772,
          -73.9854496991864,
          -73.9962768554688,
          -73.95243,
          -73.94769,
          -73.99064,
          -73.980522,
          -73.702410370639,
          -73.97932,
          -73.829559,
          -73.832656,
          -73.98642,
          -73.95818,
          -73.9787658734817,
          -73.72874,
          -73.7807123,
          -73.986879,
          -73.9573442729302,
          -73.994479,
          -73.73645,
          -73.98936,
          -73.9921604184253,
          -73.8264785798832,
          -73.833182,
          -73.8404523646513,
          -73.95426,
          -73.8297658,
          -73.8030481843822,
          -73.913984,
          -73.990072,
          -73.6858687,
          -73.9237799,
          -73.96369,
          -73.829318,
          -73.8443573,
          -73.5515274,
          -73.963819,
          -73.98369,
          -73.82859,
          -73.825889,
          -73.99155,
          -73.7263119,
          -73.9696807861328,
          -73.88091,
          -74.0047300234437,
          -73.501163039759,
          -73.998068,
          -73.8310272,
          -74.00922,
          -74.0089598670602,
          -73.8791940873497,
          -73.8308122,
          -73.7907523,
          -73.8302704319358,
          -73.9871,
          -73.98589,
          -74.01105,
          -73.91851,
          -73.9885599911213,
          -73.98847,
          -73.98809,
          -73.97012013942,
          -74.0109883586004,
          -73.9606622,
          -73.815237,
          -73.829045,
          -73.8297,
          -73.80959,
          -73.99496,
          -73.8906,
          -73.99972,
          -73.9579670503736,
          -74.0155855,
          -73.8528836,
          -73.91912,
          -73.91427167,
          -74.00307,
          -73.9982683,
          -74.0293392046842,
          -73.8827377181548,
          -73.642,
          -73.8006713,
          -73.82834,
          -74.1492210184233,
          -74.122923,
          -73.791185,
          -73.944072,
          -73.8837152006117,
          -73.982994,
          -73.959104,
          -73.986352,
          -73.9829937368632,
          -74.0138012543321,
          -73.9780936737929,
          -73.9826896414161,
          -73.9854838,
          -73.9971,
          -73.862531,
          -73.95918,
          -73.98555,
          -74.00997,
          -73.97983,
          -73.986229,
          -74.0090122,
          -73.95269,
          -73.986249,
          -73.99021,
          -74.14977,
          -74.00092,
          -73.9954376220703,
          -73.955451,
          -73.97158,
          -73.98557536304,
          -74.0002886205912,
          -73.984263,
          -73.846819652081,
          -74.1460733,
          -73.87902,
          -73.83113,
          -73.9086129,
          -73.9863477886696,
          -73.9720886366116,
          -73.97774,
          -73.9743590354919,
          -73.99692,
          -74.1135196,
          -73.97889,
          -73.96382,
          -73.9949616,
          -73.987059,
          -74.00742,
          -73.8271118,
          -74.000475,
          -73.8290939,
          -73.8091804,
          -73.94987,
          -73.9941599,
          -73.8799355,
          -73.99822,
          -73.8769762,
          -73.98698,
          -73.97908,
          -74.03799,
          -73.9860078509186,
          -73.530038,
          -73.8506697,
          -73.9402,
          -74.0077673,
          -74.026553,
          -73.99178,
          -73.93797,
          -73.9202260477152,
          -74.1080638,
          -73.997761,
          -73.887082,
          -73.9845001325011,
          -73.967675,
          -73.9904292380982,
          -73.95842,
          -73.9231627061963,
          -74.01179,
          -73.8773001,
          -73.95142,
          -73.9070381725156,
          -73.8152871,
          -73.859238,
          -73.99026,
          -73.963134,
          -74.05857,
          -73.9626007,
          -73.96064,
          -73.98114525698,
          -73.995386833,
          -73.96577,
          -73.8341357,
          -73.982388,
          -73.51929333,
          -73.989087,
          -74.11121,
          -73.5520103846558,
          -74.0092894434929,
          -73.7582947,
          -74.0293787332141,
          -74.0013,
          -73.98719,
          -73.96956,
          -74.156277,
          -73.93344,
          -74.01085,
          -73.7813176,
          -74.03449,
          -73.998727,
          -73.986868,
          -74.026614,
          -74.02884,
          -73.9570099343586,
          -73.9977966218067,
          -73.826576,
          -73.612829,
          -74.07786,
          -73.9474689,
          -73.8967115414127,
          -74.11216,
          -74.03628,
          -74.014208,
          -74.000223,
          -73.8767088,
          -73.959264,
          -73.98643,
          -73.97592,
          -73.98163,
          -74.135463,
          -74.1078911349177,
          -73.9948,
          -73.869565,
          -73.72174,
          -74.0081173181534,
          -73.8440798,
          -73.83205,
          -73.98525,
          -73.997535,
          -73.99184,
          -73.8916917516366,
          -74.122322,
          -74.02721,
          -73.99702,
          -74.0584467,
          -73.9835123,
          -73.622611,
          -73.95751,
          -73.9565322,
          -73.9121780395508,
          -73.852192,
          -74.0007095,
          -73.9936737773865,
          -73.9483805000782,
          -74.0305,
          -74.001174,
          -74.0840077400208,
          -73.9944,
          -74.007024,
          -73.954052,
          -74.1353174613525,
          -74.164168,
          -73.997358,
          -74.00883,
          -74.012382,
          -73.86841,
          -74.0523796,
          -73.9743315428495,
          -74.0266,
          -73.9751863674938,
          -73.8620374,
          -74.004860621059,
          -73.9031929,
          -73.9669749140739,
          -73.99715,
          -73.9113604,
          -73.9394,
          -74.010669,
          -73.7184192,
          -73.96691,
          -73.99794,
          -73.9835854,
          -73.9795862,
          -73.89405,
          -73.829656,
          -73.8706363365054,
          -73.86614,
          -73.98553,
          -73.991241,
          -73.9908998832107,
          -74.0091,
          -73.98611,
          -73.983954,
          -73.9027123,
          -73.9594647409246,
          -73.98857,
          -73.95849,
          -73.98347,
          -74.14622,
          -73.98452,
          -74.144919,
          -73.993368,
          -74.01217,
          -74.0150451660156,
          -73.98713,
          -74.1578,
          -73.81741,
          -73.97434,
          -73.994315159145,
          -73.982036,
          -73.9030796,
          -73.95554,
          -73.9834,
          -73.9200543612242,
          -74.032028137452,
          -73.8424153243383,
          -73.994558,
          -73.998498,
          -74.0135977979782,
          -73.9550726115704,
          -73.99761,
          -73.9973911643028,
          -73.9872509999598,
          -74.076579,
          -74.00248,
          -73.966727,
          -73.9086939,
          -73.998233,
          -73.99822,
          -73.9561530650297,
          -74.09893883,
          -73.85905,
          -74.0758376,
          -73.99379,
          -74.00989,
          -73.967407,
          -73.980812,
          -74.0008136630058,
          -73.98972,
          -73.9831835031509,
          -73.99715,
          -73.983898,
          -73.97394,
          -74.011083,
          -74.158935919404,
          -73.986274046627,
          -73.9858869347862,
          -73.8290939,
          -73.97495,
          -74.05565,
          -73.86578,
          -74.00663,
          -73.98959,
          -73.99383,
          -73.99806,
          -74.1503651,
          -73.9394,
          -74.148136,
          -74.0094277709237,
          -73.9921,
          -73.990406,
          -73.8767307208374,
          -73.501815804635,
          -74.13726167,
          -74.00803,
          -74.03799,
          -74.0384337588589,
          -74.009272,
          -73.9943466778923,
          -74.0064186417162,
          -73.997378,
          -73.8294369354844,
          -74.00815,
          -73.8827377181548,
          -73.5234331958007,
          -73.971427,
          -73.9888704568148,
          -74.009484,
          -73.9998899,
          -73.8308122,
          -74.1557798616634,
          -73.9037799999962,
          -73.998573,
          -73.832681,
          -73.6117230038576,
          -73.9996625,
          -73.9453064,
          -73.997282,
          -73.870329,
          -73.83631,
          -73.9981933,
          -73.9798965454102,
          -73.8087227282263,
          -74.0059891,
          -73.830396,
          -74.0272763,
          -73.99956,
          -74.00536,
          -73.8836823,
          -73.99163,
          -73.8309479,
          -74.008670398813
         ],
         "marker": {
          "color": "#636efa"
         },
         "mode": "markers",
         "name": "",
         "showlegend": false,
         "subplot": "mapbox",
         "type": "scattermapbox"
        }
       ],
       "layout": {
        "legend": {
         "tracegroupgap": 0
        },
        "mapbox": {
         "center": {
          "lat": 40.734334651526005,
          "lon": -73.94449834711693
         },
         "domain": {
          "x": [
           0,
           1
          ],
          "y": [
           0,
           1
          ]
         },
         "style": "open-street-map",
         "zoom": 8
        },
        "margin": {
         "b": 0,
         "l": 0,
         "r": 0,
         "t": 0
        },
        "template": {
         "data": {
          "bar": [
           {
            "error_x": {
             "color": "#2a3f5f"
            },
            "error_y": {
             "color": "#2a3f5f"
            },
            "marker": {
             "line": {
              "color": "#E5ECF6",
              "width": 0.5
             }
            },
            "type": "bar"
           }
          ],
          "barpolar": [
           {
            "marker": {
             "line": {
              "color": "#E5ECF6",
              "width": 0.5
             }
            },
            "type": "barpolar"
           }
          ],
          "carpet": [
           {
            "aaxis": {
             "endlinecolor": "#2a3f5f",
             "gridcolor": "white",
             "linecolor": "white",
             "minorgridcolor": "white",
             "startlinecolor": "#2a3f5f"
            },
            "baxis": {
             "endlinecolor": "#2a3f5f",
             "gridcolor": "white",
             "linecolor": "white",
             "minorgridcolor": "white",
             "startlinecolor": "#2a3f5f"
            },
            "type": "carpet"
           }
          ],
          "choropleth": [
           {
            "colorbar": {
             "outlinewidth": 0,
             "ticks": ""
            },
            "type": "choropleth"
           }
          ],
          "contour": [
           {
            "colorbar": {
             "outlinewidth": 0,
             "ticks": ""
            },
            "colorscale": [
             [
              0,
              "#0d0887"
             ],
             [
              0.1111111111111111,
              "#46039f"
             ],
             [
              0.2222222222222222,
              "#7201a8"
             ],
             [
              0.3333333333333333,
              "#9c179e"
             ],
             [
              0.4444444444444444,
              "#bd3786"
             ],
             [
              0.5555555555555556,
              "#d8576b"
             ],
             [
              0.6666666666666666,
              "#ed7953"
             ],
             [
              0.7777777777777778,
              "#fb9f3a"
             ],
             [
              0.8888888888888888,
              "#fdca26"
             ],
             [
              1,
              "#f0f921"
             ]
            ],
            "type": "contour"
           }
          ],
          "contourcarpet": [
           {
            "colorbar": {
             "outlinewidth": 0,
             "ticks": ""
            },
            "type": "contourcarpet"
           }
          ],
          "heatmap": [
           {
            "colorbar": {
             "outlinewidth": 0,
             "ticks": ""
            },
            "colorscale": [
             [
              0,
              "#0d0887"
             ],
             [
              0.1111111111111111,
              "#46039f"
             ],
             [
              0.2222222222222222,
              "#7201a8"
             ],
             [
              0.3333333333333333,
              "#9c179e"
             ],
             [
              0.4444444444444444,
              "#bd3786"
             ],
             [
              0.5555555555555556,
              "#d8576b"
             ],
             [
              0.6666666666666666,
              "#ed7953"
             ],
             [
              0.7777777777777778,
              "#fb9f3a"
             ],
             [
              0.8888888888888888,
              "#fdca26"
             ],
             [
              1,
              "#f0f921"
             ]
            ],
            "type": "heatmap"
           }
          ],
          "heatmapgl": [
           {
            "colorbar": {
             "outlinewidth": 0,
             "ticks": ""
            },
            "colorscale": [
             [
              0,
              "#0d0887"
             ],
             [
              0.1111111111111111,
              "#46039f"
             ],
             [
              0.2222222222222222,
              "#7201a8"
             ],
             [
              0.3333333333333333,
              "#9c179e"
             ],
             [
              0.4444444444444444,
              "#bd3786"
             ],
             [
              0.5555555555555556,
              "#d8576b"
             ],
             [
              0.6666666666666666,
              "#ed7953"
             ],
             [
              0.7777777777777778,
              "#fb9f3a"
             ],
             [
              0.8888888888888888,
              "#fdca26"
             ],
             [
              1,
              "#f0f921"
             ]
            ],
            "type": "heatmapgl"
           }
          ],
          "histogram": [
           {
            "marker": {
             "colorbar": {
              "outlinewidth": 0,
              "ticks": ""
             }
            },
            "type": "histogram"
           }
          ],
          "histogram2d": [
           {
            "colorbar": {
             "outlinewidth": 0,
             "ticks": ""
            },
            "colorscale": [
             [
              0,
              "#0d0887"
             ],
             [
              0.1111111111111111,
              "#46039f"
             ],
             [
              0.2222222222222222,
              "#7201a8"
             ],
             [
              0.3333333333333333,
              "#9c179e"
             ],
             [
              0.4444444444444444,
              "#bd3786"
             ],
             [
              0.5555555555555556,
              "#d8576b"
             ],
             [
              0.6666666666666666,
              "#ed7953"
             ],
             [
              0.7777777777777778,
              "#fb9f3a"
             ],
             [
              0.8888888888888888,
              "#fdca26"
             ],
             [
              1,
              "#f0f921"
             ]
            ],
            "type": "histogram2d"
           }
          ],
          "histogram2dcontour": [
           {
            "colorbar": {
             "outlinewidth": 0,
             "ticks": ""
            },
            "colorscale": [
             [
              0,
              "#0d0887"
             ],
             [
              0.1111111111111111,
              "#46039f"
             ],
             [
              0.2222222222222222,
              "#7201a8"
             ],
             [
              0.3333333333333333,
              "#9c179e"
             ],
             [
              0.4444444444444444,
              "#bd3786"
             ],
             [
              0.5555555555555556,
              "#d8576b"
             ],
             [
              0.6666666666666666,
              "#ed7953"
             ],
             [
              0.7777777777777778,
              "#fb9f3a"
             ],
             [
              0.8888888888888888,
              "#fdca26"
             ],
             [
              1,
              "#f0f921"
             ]
            ],
            "type": "histogram2dcontour"
           }
          ],
          "mesh3d": [
           {
            "colorbar": {
             "outlinewidth": 0,
             "ticks": ""
            },
            "type": "mesh3d"
           }
          ],
          "parcoords": [
           {
            "line": {
             "colorbar": {
              "outlinewidth": 0,
              "ticks": ""
             }
            },
            "type": "parcoords"
           }
          ],
          "pie": [
           {
            "automargin": true,
            "type": "pie"
           }
          ],
          "scatter": [
           {
            "marker": {
             "colorbar": {
              "outlinewidth": 0,
              "ticks": ""
             }
            },
            "type": "scatter"
           }
          ],
          "scatter3d": [
           {
            "line": {
             "colorbar": {
              "outlinewidth": 0,
              "ticks": ""
             }
            },
            "marker": {
             "colorbar": {
              "outlinewidth": 0,
              "ticks": ""
             }
            },
            "type": "scatter3d"
           }
          ],
          "scattercarpet": [
           {
            "marker": {
             "colorbar": {
              "outlinewidth": 0,
              "ticks": ""
             }
            },
            "type": "scattercarpet"
           }
          ],
          "scattergeo": [
           {
            "marker": {
             "colorbar": {
              "outlinewidth": 0,
              "ticks": ""
             }
            },
            "type": "scattergeo"
           }
          ],
          "scattergl": [
           {
            "marker": {
             "colorbar": {
              "outlinewidth": 0,
              "ticks": ""
             }
            },
            "type": "scattergl"
           }
          ],
          "scattermapbox": [
           {
            "marker": {
             "colorbar": {
              "outlinewidth": 0,
              "ticks": ""
             }
            },
            "type": "scattermapbox"
           }
          ],
          "scatterpolar": [
           {
            "marker": {
             "colorbar": {
              "outlinewidth": 0,
              "ticks": ""
             }
            },
            "type": "scatterpolar"
           }
          ],
          "scatterpolargl": [
           {
            "marker": {
             "colorbar": {
              "outlinewidth": 0,
              "ticks": ""
             }
            },
            "type": "scatterpolargl"
           }
          ],
          "scatterternary": [
           {
            "marker": {
             "colorbar": {
              "outlinewidth": 0,
              "ticks": ""
             }
            },
            "type": "scatterternary"
           }
          ],
          "surface": [
           {
            "colorbar": {
             "outlinewidth": 0,
             "ticks": ""
            },
            "colorscale": [
             [
              0,
              "#0d0887"
             ],
             [
              0.1111111111111111,
              "#46039f"
             ],
             [
              0.2222222222222222,
              "#7201a8"
             ],
             [
              0.3333333333333333,
              "#9c179e"
             ],
             [
              0.4444444444444444,
              "#bd3786"
             ],
             [
              0.5555555555555556,
              "#d8576b"
             ],
             [
              0.6666666666666666,
              "#ed7953"
             ],
             [
              0.7777777777777778,
              "#fb9f3a"
             ],
             [
              0.8888888888888888,
              "#fdca26"
             ],
             [
              1,
              "#f0f921"
             ]
            ],
            "type": "surface"
           }
          ],
          "table": [
           {
            "cells": {
             "fill": {
              "color": "#EBF0F8"
             },
             "line": {
              "color": "white"
             }
            },
            "header": {
             "fill": {
              "color": "#C8D4E3"
             },
             "line": {
              "color": "white"
             }
            },
            "type": "table"
           }
          ]
         },
         "layout": {
          "annotationdefaults": {
           "arrowcolor": "#2a3f5f",
           "arrowhead": 0,
           "arrowwidth": 1
          },
          "coloraxis": {
           "colorbar": {
            "outlinewidth": 0,
            "ticks": ""
           }
          },
          "colorscale": {
           "diverging": [
            [
             0,
             "#8e0152"
            ],
            [
             0.1,
             "#c51b7d"
            ],
            [
             0.2,
             "#de77ae"
            ],
            [
             0.3,
             "#f1b6da"
            ],
            [
             0.4,
             "#fde0ef"
            ],
            [
             0.5,
             "#f7f7f7"
            ],
            [
             0.6,
             "#e6f5d0"
            ],
            [
             0.7,
             "#b8e186"
            ],
            [
             0.8,
             "#7fbc41"
            ],
            [
             0.9,
             "#4d9221"
            ],
            [
             1,
             "#276419"
            ]
           ],
           "sequential": [
            [
             0,
             "#0d0887"
            ],
            [
             0.1111111111111111,
             "#46039f"
            ],
            [
             0.2222222222222222,
             "#7201a8"
            ],
            [
             0.3333333333333333,
             "#9c179e"
            ],
            [
             0.4444444444444444,
             "#bd3786"
            ],
            [
             0.5555555555555556,
             "#d8576b"
            ],
            [
             0.6666666666666666,
             "#ed7953"
            ],
            [
             0.7777777777777778,
             "#fb9f3a"
            ],
            [
             0.8888888888888888,
             "#fdca26"
            ],
            [
             1,
             "#f0f921"
            ]
           ],
           "sequentialminus": [
            [
             0,
             "#0d0887"
            ],
            [
             0.1111111111111111,
             "#46039f"
            ],
            [
             0.2222222222222222,
             "#7201a8"
            ],
            [
             0.3333333333333333,
             "#9c179e"
            ],
            [
             0.4444444444444444,
             "#bd3786"
            ],
            [
             0.5555555555555556,
             "#d8576b"
            ],
            [
             0.6666666666666666,
             "#ed7953"
            ],
            [
             0.7777777777777778,
             "#fb9f3a"
            ],
            [
             0.8888888888888888,
             "#fdca26"
            ],
            [
             1,
             "#f0f921"
            ]
           ]
          },
          "colorway": [
           "#636efa",
           "#EF553B",
           "#00cc96",
           "#ab63fa",
           "#FFA15A",
           "#19d3f3",
           "#FF6692",
           "#B6E880",
           "#FF97FF",
           "#FECB52"
          ],
          "font": {
           "color": "#2a3f5f"
          },
          "geo": {
           "bgcolor": "white",
           "lakecolor": "white",
           "landcolor": "#E5ECF6",
           "showlakes": true,
           "showland": true,
           "subunitcolor": "white"
          },
          "hoverlabel": {
           "align": "left"
          },
          "hovermode": "closest",
          "mapbox": {
           "style": "light"
          },
          "paper_bgcolor": "white",
          "plot_bgcolor": "#E5ECF6",
          "polar": {
           "angularaxis": {
            "gridcolor": "white",
            "linecolor": "white",
            "ticks": ""
           },
           "bgcolor": "#E5ECF6",
           "radialaxis": {
            "gridcolor": "white",
            "linecolor": "white",
            "ticks": ""
           }
          },
          "scene": {
           "xaxis": {
            "backgroundcolor": "#E5ECF6",
            "gridcolor": "white",
            "gridwidth": 2,
            "linecolor": "white",
            "showbackground": true,
            "ticks": "",
            "zerolinecolor": "white"
           },
           "yaxis": {
            "backgroundcolor": "#E5ECF6",
            "gridcolor": "white",
            "gridwidth": 2,
            "linecolor": "white",
            "showbackground": true,
            "ticks": "",
            "zerolinecolor": "white"
           },
           "zaxis": {
            "backgroundcolor": "#E5ECF6",
            "gridcolor": "white",
            "gridwidth": 2,
            "linecolor": "white",
            "showbackground": true,
            "ticks": "",
            "zerolinecolor": "white"
           }
          },
          "shapedefaults": {
           "line": {
            "color": "#2a3f5f"
           }
          },
          "ternary": {
           "aaxis": {
            "gridcolor": "white",
            "linecolor": "white",
            "ticks": ""
           },
           "baxis": {
            "gridcolor": "white",
            "linecolor": "white",
            "ticks": ""
           },
           "bgcolor": "#E5ECF6",
           "caxis": {
            "gridcolor": "white",
            "linecolor": "white",
            "ticks": ""
           }
          },
          "title": {
           "x": 0.05
          },
          "xaxis": {
           "automargin": true,
           "gridcolor": "white",
           "linecolor": "white",
           "ticks": "",
           "title": {
            "standoff": 15
           },
           "zerolinecolor": "white",
           "zerolinewidth": 2
          },
          "yaxis": {
           "automargin": true,
           "gridcolor": "white",
           "linecolor": "white",
           "ticks": "",
           "title": {
            "standoff": 15
           },
           "zerolinecolor": "white",
           "zerolinewidth": 2
          }
         }
        }
       }
      },
      "text/html": [
       "<div>\n",
       "        \n",
       "        \n",
       "            <div id=\"6e1e88e8-237c-4d3d-a708-4c7720c2d567\" class=\"plotly-graph-div\" style=\"height:525px; width:100%;\"></div>\n",
       "            <script type=\"text/javascript\">\n",
       "                require([\"plotly\"], function(Plotly) {\n",
       "                    window.PLOTLYENV=window.PLOTLYENV || {};\n",
       "                    \n",
       "                if (document.getElementById(\"6e1e88e8-237c-4d3d-a708-4c7720c2d567\")) {\n",
       "                    Plotly.newPlot(\n",
       "                        '6e1e88e8-237c-4d3d-a708-4c7720c2d567',\n",
       "                        [{\"hovertemplate\": \"<b>%{hovertext}</b><br><br>lat=%{lat}<br>lon=%{lon}<extra></extra>\", \"hovertext\": [\"Chun Yang Tea - Flushing New York\", \"Xing Fu Tang\", \"CoCo Fresh Tea & Juice\", \"Song Tea\", \"Boba Guys\", \"Tiger Sugar\", \"One Zo - New York\", \"Moge Tee - Bayside\", \"BAMBU\", \"Shiny Tea\", \"Truedan\", \"KOI Th\\u00e9\", \"Debutea\", \"Tea and Milk\", \"Kung Fu Tea\", \"The Teapsy New York\", \"Momo Ashi\", \"The Alley\", \"Surreal Creamery\", \"CoCo Fresh Tea & Juice\", \"Coco Fresh Tea & Juice\", \"Bar Pa Tea\", \"Kung Fu Tea\", \"La Mian Lounge\", \"M\\u00f6ge Tee - Flushing\", \"Tiger Sugar\", \"Yi Fang Taiwan Fruit Tea\", \"Dragon Horn Tea\", \"M\\u00f6ge Tee\", \"Boba Fries\", \"Vivi Bubble Tea\", \"M Tea\", \"Boba Guys\", \"CoCo Fresh Tea & Juice\", \"Sweet Cats Cafe\", \"The Alley\", \"I Milky \\u6c90\\u767d\", \"Teazzi Tea Shop\", \"M\\u00f6ge Tee - Fort Lee\", \"YanYan Tea\", \"Bubbleology\", \"Yaya Tea Garden\", \"Tidal Tea\", \"Yi Fang Taiwan Fruit Tea\", \"Meet Fresh\", \"Brew Memories\", \"Efresh\", \"One More Charm\", \"Kung Fu Tea\", \"TSA\\u00f4CAA\", \"Macao Imperial Tea\", \"mellow tea\", \"\\u00dcMACHA\", \"Mr.Wish\", \"Yum Ice Cream&Bubble Tea\", \"Sip N' Play\", \"Hawa Smoothies and Bubble Tea\", \"Boba Fix\", \"Gong Cha - Little Neck\", \"KOI Th\\u00e9\", \"ViVi Bubble Tea\", \"Gong Cha\", \"Happy Lemon\", \"Mr.Green\", \"Something Sweet\", \"Mr. Wish\", \"Koryodang\", \"Master Grill\", \"TenIchi Mart\", \"Swan Crepe\", \"INFINITEA NY\", \"OJBK Tea Shop\", \"Vivi Bubble Tea\", \"Mi Tea\", \"Bubble Hut\", \"Gong Cha\", \"Yaya Tea Garden\", \"Hero Tang Tea\", \"Anda Cafe\", \"Moge Tee\", \"Vivi Bubble Tea\", \"Juicy Cube\", \"Summer\", \"Gotcha Cafe\", \"Coco Fresh Tea & Juice\", \"M Tea\", \"Mi Tea\", \"TSA\\u00f4CAA\", \"Tiger Sugar\", \"Vivi Bubble Tea\", \"Anda Cafe\", \"Crepe N Tearia\", \"With Sugar and Tea\", \"Modern Tea Shop\", \"PaTea\", \"Yummy Boba Desserts\", \"Vivi Bubble Tea\", \"MomenTea Kitchen\", \"BIAO Sugar\", \"Yifang Taiwan Fruit Tea\", \"Gong Cha\", \"Moge Tee Brooklyn\", \"Cocohodo\", \"Chatime\", \"Gong Cha\", \"TKK Fried Chicken Queens Crossing\", \"Bubble Shop\", \"Yaya Tea Garden\", \"Bobba Hubba\", \"MomenTea\", \"Hawa Smoothies & Bubble Tea\", \"Bobaloca Bubble Tea and Coffee House\", \"QBubble\", \"Avenue Coffee House\", \"Juice Up\", \"Kudo Society Cafe\", \"Ten Ren's Tea Time\", \"Coco Fresh Tea & Juice\", \"TBaar\", \"Manny's Sweet Treats\", \"168 Hi Tea\", \"Tiger Hill\", \"Lincredibowl\", \"Poke Bowl\", \"Star Cafe\", \"Creep City Ninja Bubble Tea\", \"Kung Fu Tea\", \"Panda Bubble Tea\", \"Kung Fu Tea\", \"M\\u00f6ge Tee - Fifth Ave\", \"Tea Magic\", \"Waffle & Bubble\", \"Mr. Wish\", \"IF Cha Tea\", \"TKK Fried Chicken\", \"Chun Yang Tea Chinatown\", \"Gong Cha\", \"Vivi Bubble Tea\", \"Yifang Taiwan Fruit Tea\", \"Teadora\", \"Coco Fresh Tea & Juice\", \"ViVi Bubble Tea\", \"Gong Cha\", \"ViVi Bubble Tea\", \"The Whale Tea\", \"Mee Cafe\", \"Urban Leaf Cafe\", \"Mi Tea\", \"Vivi Bubble Tea\", \"Ollies To Go\", \"Mavi's Pizza and Pasta\", \"Gong Cha\", \"Catmint Wheel Cake\", \"ViVi bubble tea\", \"Kung Fu Tea\", \"BoBo Z Bakery\", \"Anda Cafe\", \"Tiger Tea\", \"Vivi Bubble Tea\", \"Gong Cha\", \"Q Tea Tapas\", \"Kung Fu Tea\", \"Banhmigos\", \"Macao Imperial Tea\", \"Village Tea Shop\", \"Squarrel Cafe\", \"Hawa smoothie & Bubble tea\", \"Teado Tea Shop\", \"Hawa Smoothies & Bubble Tea\", \"Mudflow Tea House\", \"ViVi Bubble Tea\", \"M\\u00f6ge Tee Greenwich Village\", \"TBaar\", \"Beijing Dumpling House\", \"Namas Tea\", \"Boba Guys\", \"Tornado Crepe\", \"Yifang Taiwan Fruit Tea\", \"Pata Cafe\", \"Ho Ho T\\u00e9\", \"Moge Tee\", \"Mocktails & Dreams\", \"Kung Fu Tea\", \"Kung Fu Tea\", \"Song's Dumplings Cafe\", \"Sugar Story 2\", \"U Tea\", \"Pig Pig Cafe\", \"Vivi Bubble Tea\", \"Cloud 9 Crepes\", \"Uncle Drink\", \"Asian Fusion\", \"Bubbly Tea\", \"Siips Bubble\", \"Gong Cha\", \"Kung Fu Tea\", \"Hanco's\", \"Initial Tea\", \"Tornado Crepe\", \"In Cha\", \"Coco Fresh Tea & Juice\", \"Jupioca\", \"Momochai\", \"Kissena Cafe\", \"Lupe\\u2019s Jugos\", \"High Tea House\", \"Banh Mi Place\", \"Sagoto BubbleTea World\", \"Newkirk Fruit\", \"Culture Tea Bar\", \"Juicy Cube\", \"Kung Fu Tea\", \"Panda Bubble Tea\", \"Gong Cha\", \"Hanco's\", \"Hibachi & Noodle\", \"Vivi Bubble Tea\", \"Vivi Bubble Tea\", \"Kenko Asian Cuisine\", \"Modern China Teashop\", \"Sweet Adele's\", \"Kung Fu Tea\", \"Cool Fresh Juice Bar\", \"CoCo Fresh Tea & Juice\", \"Cool Fresh Juice Bar\", \"Chickchat Fusion Kitchen\", \"harmony\", \"Barley Time\", \"Korean BBQ Grill\", \"Moge Tee Newport\", \"Something Sweet\", \"Boba Dumbo\", \"Coco Fresh Tea & Juice\", \"Gong Cha\", \"Banhmigos\", \"Taiwan Bear House\", \"Go Greenly\", \"Gong Cha\", \"Real Fruit Bubble Tea\", \"Gong Cha\", \"Ama Coffee\", \"Something Sweet\", \"Waffle & Bubble\", \"Kung Fu Tea\", \"Boba Land\", \"Kung Fu Tea\", \"Gong Cha\", \"Gong Cha\", \"Uptown Poke\", \"Hawa Smoothies & Bubble Tea\", \"Boba Le Tea Cafe\", \"ViVi Bubble Tea\", \"Vivi Bubble Tea\", \"Gong Cha\", \"V3nom Cafe & Lounge\", \"Jupioca\", \"Mitea forest hills\", \"39 Kings Cafe \\u5229\\u82d1\\u98df\\u574a\", \"TBaar\", \"Vivi Bubble Tea\", \"Banhmigos\", \"Mei Mei Restaurant\", \"Lil M Bubble Tea\", \"Cheesecake Diva\", \"Utepia Tea\", \"Oolong Tea & Poke Bowl\", \"YiFang Taiwan Fruit Tea\", \"Dulce Delights\", \"TBaar\", \"Kung Fu Tea\", \"Jupioca\", \"Elly's Place - Sunrise Market\", \"Bubble Tea\", \"M\\u00f6ge Tee\", \"Jupioca\", \"Vivi Bubble Tea\", \"SoHo Eatery\", \"Creations Frozen Yogurt & Smoothies\", \"Desserts18\", \"Hawa Smoothie & Bubble Tea\", \"Sashimi Ramen Express\", \"Kazia Rae's Restaurant\", \"Yummy Machi\", \"Mi Tea\", \"YiFang Taiwan Fruit Tea\", \"Juice Vitality\", \"Pot Pot Noodle & Tea Cafe\", \"CoCo Fresh Tea & Juice\", \"CoCo Fresh Tea & Juice\", \"Kung Fu Tea\", \"Lucky Rolls\", \"U-Crew Thai Creamery & Tea\", \"Vivi Bubble Tea\", \"Woodside Rainbow Bakery\", \"Cafe De Flore\", \"Pok\\u00e9Bowl Station\", \"Yo Health\", \"Kung Fu Tea\", \"Vivi Bubble Tea\", \"Remedy Lounge and Cafe\", \"Gong Cha\", \"Gong Cha\", \"80's Tea\", \"Chau Down Cafe\", \"Le Moment\", \"Kung Fu Tea\", \"TBaar\", \"Pop Pot Noodle & Tea Spot\", \"Kung Fu Tea\", \"Yaya Tea Garden\", \"CoCo Fresh Tea & Juice\", \"CoCo Fresh Tea & Juice\", \"Jupioca\", \"Home\", \"Tornado Crepe\", \"Bubblion\", \"Kung Fu Tea\", \"Sashimi Express II\", \"YinYang Coffee & Tea\", \"Banhmigos\", \"CoCo Fresh Tea & Juice\", \"Blueberry Frozen Yogurt\", \"Hanco's\", \"Sweetie House\", \"Lee Lee\", \"House Malaysian\", \"ZRolls Ice Cream\", \"Halo Kitchen & Lounge\", \"CoCo Fresh Tea & Juice\", \"Kung Fu Tea\", \"ChowTime\", \"Bee Cafe\", \"Savory Thai\", \"Juice Vitality\", \"Kung Fu Tea\", \"Babo Teahouse\", \"Pink Forest\", \"Kung Fu Tea\", \"Mojoilla\", \"iGrill\", \"Vivi Bubble Tea\", \"Me-Do Desserts\", \"Vivi Bubble Tea\", \"Fancy Juice\", \"Gong Cha\", \"Drink Tea\", \"Kung Fu Tea\", \"The Pretzel Twister\", \"Gong Cha\", \"CoCo Fresh Tea & Juice\", \"Kung Fu Tea\", \"JJ Great Tea\", \"Bibille\", \"Kung Fu Tea\", \"Coco Fresh Tea & Juice\", \"Earnest Tea Cafe\", \"Fulton Thai\", \"Lotus Vietnamese Sandwiches\", \"G & J Bubble Tea\", \"Vivi Bubble Tea\", \"ViVi Bubble Tea\", \"Mars Tea\", \"Arnor Crepes & Bubble Tea\", \"Gong Cha\", \"Sweetea\", \"Hawaii Poke Bowl\", \"Kung Fu Tea\", \"Hawa Smoothies\", \"Mask Hotpot Galatea\", \"Pok\\u00e9Bowl Station\", \"Cafe Pilipino\", \"Kung Fu Tea\", \"Tan-Cha\", \"Vivi Bubble Tea\", \"Bread & Joe\", \"Tbaar\", \"Hong Kong Kei One\", \"Poke Station\", \"Sakai Ramen\", \"Vivi Bubble Tea\", \"Ajisen Ramen\", \"Vivi Bubble Tea\", \"Max Bakery and Restaurant\", \"Asia Grill\", \"Poke Time\", \"Formosa Cafe\", \"Poke n' Ramen 360\", \"Bao by Kaya\", \"Taiwan Station\", \"Vivi Bubble Tea\", \"Kung Fu Tea\", \"Vivi Bubble Tea\", \"Express Tea Shop\", \"Gong Cha\", \"Kung Fu Tea\", \"Chinese Gourmet\", \"Sunmerry Bakery\", \"D&M Bakery Inc.\", \"E's Cake Shop\", \"Kung Fu Tea\", \"TBaar\", \"Sakura Japan\", \"Cornerstone Caf\\u00e9\", \"Silk Road Cafe\", \"Bubble Panda\", \"Sweet & Savory Cafe\", \"Sweets Bakery\", \"Caffebene\", \"Gong Cha\", \"Go Greenly\", \"Teatime Metro\", \"Ten Ren Tea\", \"Teas' Tea\", \"Hu's Teashop\", \"TBaar\", \"Tbaar\", \"Cream Coffee & Tea Shop\", \"Tea & Burger\", \"TBaar\", \"Pastry Bakery\", \"Minus Celsius Ice Cream\", \"C Fruit Life\", \"Lian Sheng Restaurant\"], \"lat\": [40.758001, 40.75816, 40.774776, 40.760441, 40.720657, 40.75918, 40.7328790403907, 40.760879, 40.71697, 40.79823, 40.7191742, 40.72932, 40.729188, 40.75904, 40.75407, 40.7658014094971, 40.7642746295096, 40.7292878143919, 40.742016, 40.759092, 40.7391127, 40.721430826492, 40.76204, 40.7631278063422, 40.7607111511042, 40.717151, 40.758735, 40.70853, 40.7497805, 40.7432094, 40.84337, 40.761704, 40.71897, 40.75958, 40.723314, 40.7601296749072, 40.7513413, 40.7371, 40.85235, 40.759241, 40.7271610773145, 40.7192268371582, 40.819199, 40.74782, 40.72807, 40.667755, 40.7519122334391, 40.66983, 40.7606726, 40.759908, 40.74766, 40.81106, 40.816273, 40.78748, 40.9108799, 40.668095, 40.7663425495287, 40.723368, 40.76995, 40.7357, 40.7593397667085, 40.7602238538863, 40.758811, 40.6598028866019, 40.74315, 40.7092903, 40.7612795529455, 40.805913, 40.687784, 40.688307, 40.77185, 40.69395, 40.756965, 40.7205497, 40.7010745, 40.767984, 40.7384, 40.75762, 40.7430580638732, 40.75538, 40.7868153, 40.7602119445801, 40.7353499, 40.6081742507666, 40.8260586816766, 40.715361, 40.7594571, 40.63639, 40.6358699982869, 40.7404822760514, 40.7613116, 40.7262611, 40.7591669024439, 40.76178, 40.73306, 40.63776, 40.76002, 40.7551628731681, 40.7483, 40.72905, 40.8506348129876, 40.6374006368069, 40.9723529, 40.740429, 40.759645, 40.76096, 41.00904, 40.7162999, 40.74586, 40.73882, 40.7086323296893, 40.790097, 40.7832581, 40.74246, 40.844345, 40.85112, 40.7163819, 40.9094014884328, 40.7415872384194, 40.74912, 40.7228515, 40.76027, 40.7628916957546, 40.658161, 40.74012, 40.711205, 40.747517, 40.766984, 40.764001, 40.74555, 40.7793834898764, 40.7919610959615, 40.679953856395, 40.7401526014217, 40.73999, 40.71617, 40.7332246, 40.76722, 40.75257, 40.62975, 40.77769, 40.732567, 40.7104199, 40.72767, 40.733212, 40.713053, 40.82873, 40.72965, 40.743579864502, 40.771918, 40.852023, 40.7523752091444, 40.7299296059476, 40.740478, 40.7207393248928, 41.09451, 40.74072, 40.75994, 40.7743607, 40.7474575532982, 40.8515995838956, 40.68066, 40.6756340357915, 40.71789, 40.9783906, 40.68444, 40.76164, 40.7172143, 40.692105, 40.63775, 40.7601737, 40.728499, 40.759362, 40.7043147, 40.67264, 40.73014, 40.7478287, 40.71545, 40.7326341, 40.7614, 40.73646, 40.72605, 40.6894028198824, 40.773065, 40.7101967, 40.75308, 40.710478, 40.633719, 40.6906, 40.68188, 40.757323090934, 40.952041, 40.715291, 40.730121, 40.7603003092784, 40.855773, 40.6870318621828, 40.69076, 40.701784884781, 40.6366, 40.7370489, 40.77038, 40.7457553530764, 40.7395042, 40.751321, 40.6, 40.6732865, 40.73444, 40.6354599, 40.81293, 40.7782207169156, 40.730662, 40.76579, 40.7572289, 40.666319, 40.74969333, 40.722753, 40.57138, 40.663700229997, 40.6350291054898, 40.7404077, 40.74336, 40.73155, 40.75263, 40.7981, 40.74604, 40.79535, 40.63734, 40.909017, 40.72867, 40.604613, 40.703444, 40.621235, 40.74299, 40.6741804392653, 40.7147185237041, 40.986319, 40.738153, 40.91572, 40.6323327, 40.7007287451446, 40.57155, 40.76868, 40.7051869, 40.844346, 40.7375709, 40.607978, 40.69147, 40.78676, 40.73063, 40.625103, 40.6301168586612, 40.73634, 40.734805, 40.72536, 40.7093735039234, 40.72069, 40.7594773, 40.7503, 40.715099, 40.69111, 40.8699376483647, 40.612858, 40.63249, 40.71673, 40.7902956, 40.7408555, 40.872642, 40.59885, 40.598612, 40.6998901367188, 40.710927, 40.7179604, 40.7153871398041, 40.6325078902031, 40.73797, 40.719167, 40.8789887858575, 40.61475, 40.715759, 40.772239, 40.4535293997215, 40.626408, 40.603705, 40.63677, 40.704818, 40.70836, 40.718847, 40.753285959363, 40.62083, 40.8937953113406, 40.7495468, 40.7161132862826, 40.7453041, 40.8567850448382, 40.60413, 40.744223, 40.84303, 40.64515, 40.7437943, 40.80323, 40.84733, 40.611541, 40.6897703, 40.7264, 40.759175, 40.7517150903614, 40.69123, 40.74002, 40.600059, 40.760509821085, 40.70983, 40.6919, 40.672176, 40.700023, 40.8060861214461, 40.72885, 40.77068, 40.74083, 40.54152, 40.74017, 41.099753, 40.694767, 40.63968, 40.6409454345703, 40.82529, 40.74653, 40.688606, 40.7534, 40.6020257678793, 40.576542, 40.7475304, 40.71395, 40.72966, 40.6100473432545, 40.726618303051, 40.7193406921021, 40.717113, 40.713856, 41.0929881649604, 40.5989469959451, 40.6038799, 40.7136955955471, 40.7254537056505, 40.916919, 40.642509, 40.8047, 40.6996894, 40.715752, 40.71656, 41.097151, 40.93894967, 41.07618, 40.9181941, 40.71414, 40.63538, 40.683459, 40.675468, 40.6133693507069, 40.75255, 40.6121425789567, 40.60413, 40.6105715, 40.75214, 40.63781, 40.6133250651476, 40.7477882966671, 40.7180955809494, 40.759362, 40.68114, 40.731, 40.7538, 40.63811, 40.73057, 40.66485, 40.6049999, 40.5376089, 40.84303, 40.623464, 40.6353426844309, 40.74661, 40.618653, 40.7507795280278, 40.785433554993, 41.06683333, 40.64023, 40.72605, 40.727173413639, 40.639566, 40.602259323006, 40.6380363231817, 40.718181, 40.7571781241867, 40.63664, 40.7415872384194, 40.7636099299241, 40.852658, 40.7169822045653, 40.611049, 40.71777, 40.7613116, 40.7405413723477, 40.7449576628613, 40.714702, 40.759611, 40.6509511393644, 40.717286, 40.8347509, 40.713893, 41.014908, 40.75893, 40.7164175, 40.8162536621094, 40.7480917509622, 40.6392784, 40.759357, 40.6332643, 40.61821, 40.63342, 40.7474403, 40.7176, 40.7593169, 40.6368565751912], \"legendgroup\": \"\", \"lon\": [-73.8299476772982, -73.82982, -73.732666, -73.830381, -73.984542, -73.83041, -73.9877050369978, -73.769338, -73.99471, -73.9695, -73.9962197, -74.00126, -73.9993244, -73.92631, -73.65736833, -73.9191635864046, -73.7712760729056, -73.9909341307257, -73.977582, -73.76909, -73.7916629, -73.996737, -73.76976, -73.9279485723007, -73.8306283092162, -73.998231, -73.8310282, -74.013628, -73.9415148, -73.8830931, -74.0014, -73.8314553, -74.00102, -73.8305, -73.799678, -73.8327264543844, -73.9864468, -73.99582, -73.96984, -73.831772, -73.9854496991864, -73.9962768554688, -73.95243, -73.94769, -73.99064, -73.980522, -73.702410370639, -73.97932, -73.829559, -73.832656, -73.98642, -73.95818, -73.9787658734817, -73.72874, -73.7807123, -73.986879, -73.9573442729302, -73.994479, -73.73645, -73.98936, -73.9921604184253, -73.8264785798832, -73.833182, -73.8404523646513, -73.95426, -73.8297658, -73.8030481843822, -73.913984, -73.990072, -73.6858687, -73.9237799, -73.96369, -73.829318, -73.8443573, -73.5515274, -73.963819, -73.98369, -73.82859, -73.825889, -73.99155, -73.7263119, -73.9696807861328, -73.88091, -74.0047300234437, -73.501163039759, -73.998068, -73.8310272, -74.00922, -74.0089598670602, -73.8791940873497, -73.8308122, -73.7907523, -73.8302704319358, -73.9871, -73.98589, -74.01105, -73.91851, -73.9885599911213, -73.98847, -73.98809, -73.97012013942, -74.0109883586004, -73.9606622, -73.815237, -73.829045, -73.8297, -73.80959, -73.99496, -73.8906, -73.99972, -73.9579670503736, -74.0155855, -73.8528836, -73.91912, -73.91427167, -74.00307, -73.9982683, -74.0293392046842, -73.8827377181548, -73.642, -73.8006713, -73.82834, -74.1492210184233, -74.122923, -73.791185, -73.944072, -73.8837152006117, -73.982994, -73.959104, -73.986352, -73.9829937368632, -74.0138012543321, -73.9780936737929, -73.9826896414161, -73.9854838, -73.9971, -73.862531, -73.95918, -73.98555, -74.00997, -73.97983, -73.986229, -74.0090122, -73.95269, -73.986249, -73.99021, -74.14977, -74.00092, -73.9954376220703, -73.955451, -73.97158, -73.98557536304, -74.0002886205912, -73.984263, -73.846819652081, -74.1460733, -73.87902, -73.83113, -73.9086129, -73.9863477886696, -73.9720886366116, -73.97774, -73.9743590354919, -73.99692, -74.1135196, -73.97889, -73.96382, -73.9949616, -73.987059, -74.00742, -73.8271118, -74.000475, -73.8290939, -73.8091804, -73.94987, -73.9941599, -73.8799355, -73.99822, -73.8769762, -73.98698, -73.97908, -74.03799, -73.9860078509186, -73.530038, -73.8506697, -73.9402, -74.0077673, -74.026553, -73.99178, -73.93797, -73.9202260477152, -74.1080638, -73.997761, -73.887082, -73.9845001325011, -73.967675, -73.9904292380982, -73.95842, -73.9231627061963, -74.01179, -73.8773001, -73.95142, -73.9070381725156, -73.8152871, -73.859238, -73.99026, -73.963134, -74.05857, -73.9626007, -73.96064, -73.98114525698, -73.995386833, -73.96577, -73.8341357, -73.982388, -73.51929333, -73.989087, -74.11121, -73.5520103846558, -74.0092894434929, -73.7582947, -74.0293787332141, -74.0013, -73.98719, -73.96956, -74.156277, -73.93344, -74.01085, -73.7813176, -74.03449, -73.998727, -73.986868, -74.026614, -74.02884, -73.9570099343586, -73.9977966218067, -73.826576, -73.612829, -74.07786, -73.9474689, -73.8967115414127, -74.11216, -74.03628, -74.014208, -74.000223, -73.8767088, -73.959264, -73.98643, -73.97592, -73.98163, -74.135463, -74.1078911349177, -73.9948, -73.869565, -73.72174, -74.0081173181534, -73.8440798, -73.83205, -73.98525, -73.997535, -73.99184, -73.8916917516366, -74.122322, -74.02721, -73.99702, -74.0584467, -73.9835123, -73.622611, -73.95751, -73.9565322, -73.9121780395508, -73.852192, -74.0007095, -73.9936737773865, -73.9483805000782, -74.0305, -74.001174, -74.0840077400208, -73.9944, -74.007024, -73.954052, -74.1353174613525, -74.164168, -73.997358, -74.00883, -74.012382, -73.86841, -74.0523796, -73.9743315428495, -74.0266, -73.9751863674938, -73.8620374, -74.004860621059, -73.9031929, -73.9669749140739, -73.99715, -73.9113604, -73.9394, -74.010669, -73.7184192, -73.96691, -73.99794, -73.9835854, -73.9795862, -73.89405, -73.829656, -73.8706363365054, -73.86614, -73.98553, -73.991241, -73.9908998832107, -74.0091, -73.98611, -73.983954, -73.9027123, -73.9594647409246, -73.98857, -73.95849, -73.98347, -74.14622, -73.98452, -74.144919, -73.993368, -74.01217, -74.0150451660156, -73.98713, -74.1578, -73.81741, -73.97434, -73.994315159145, -73.982036, -73.9030796, -73.95554, -73.9834, -73.9200543612242, -74.032028137452, -73.8424153243383, -73.994558, -73.998498, -74.0135977979782, -73.9550726115704, -73.99761, -73.9973911643028, -73.9872509999598, -74.076579, -74.00248, -73.966727, -73.9086939, -73.998233, -73.99822, -73.9561530650297, -74.09893883, -73.85905, -74.0758376, -73.99379, -74.00989, -73.967407, -73.980812, -74.0008136630058, -73.98972, -73.9831835031509, -73.99715, -73.983898, -73.97394, -74.011083, -74.158935919404, -73.986274046627, -73.9858869347862, -73.8290939, -73.97495, -74.05565, -73.86578, -74.00663, -73.98959, -73.99383, -73.99806, -74.1503651, -73.9394, -74.148136, -74.0094277709237, -73.9921, -73.990406, -73.8767307208374, -73.501815804635, -74.13726167, -74.00803, -74.03799, -74.0384337588589, -74.009272, -73.9943466778923, -74.0064186417162, -73.997378, -73.8294369354844, -74.00815, -73.8827377181548, -73.5234331958007, -73.971427, -73.9888704568148, -74.009484, -73.9998899, -73.8308122, -74.1557798616634, -73.9037799999962, -73.998573, -73.832681, -73.6117230038576, -73.9996625, -73.9453064, -73.997282, -73.870329, -73.83631, -73.9981933, -73.9798965454102, -73.8087227282263, -74.0059891, -73.830396, -74.0272763, -73.99956, -74.00536, -73.8836823, -73.99163, -73.8309479, -74.008670398813], \"marker\": {\"color\": \"#636efa\"}, \"mode\": \"markers\", \"name\": \"\", \"showlegend\": false, \"subplot\": \"mapbox\", \"type\": \"scattermapbox\"}],\n",
       "                        {\"legend\": {\"tracegroupgap\": 0}, \"mapbox\": {\"center\": {\"lat\": 40.734334651526005, \"lon\": -73.94449834711693}, \"domain\": {\"x\": [0.0, 1.0], \"y\": [0.0, 1.0]}, \"style\": \"open-street-map\", \"zoom\": 8}, \"margin\": {\"b\": 0, \"l\": 0, \"r\": 0, \"t\": 0}, \"template\": {\"data\": {\"bar\": [{\"error_x\": {\"color\": \"#2a3f5f\"}, \"error_y\": {\"color\": \"#2a3f5f\"}, \"marker\": {\"line\": {\"color\": \"#E5ECF6\", \"width\": 0.5}}, \"type\": \"bar\"}], \"barpolar\": [{\"marker\": {\"line\": {\"color\": \"#E5ECF6\", \"width\": 0.5}}, \"type\": \"barpolar\"}], \"carpet\": [{\"aaxis\": {\"endlinecolor\": \"#2a3f5f\", \"gridcolor\": \"white\", \"linecolor\": \"white\", \"minorgridcolor\": \"white\", \"startlinecolor\": \"#2a3f5f\"}, \"baxis\": {\"endlinecolor\": \"#2a3f5f\", \"gridcolor\": \"white\", \"linecolor\": \"white\", \"minorgridcolor\": \"white\", \"startlinecolor\": \"#2a3f5f\"}, \"type\": \"carpet\"}], \"choropleth\": [{\"colorbar\": {\"outlinewidth\": 0, \"ticks\": \"\"}, \"type\": \"choropleth\"}], \"contour\": [{\"colorbar\": {\"outlinewidth\": 0, \"ticks\": \"\"}, \"colorscale\": [[0.0, \"#0d0887\"], [0.1111111111111111, \"#46039f\"], [0.2222222222222222, \"#7201a8\"], [0.3333333333333333, \"#9c179e\"], [0.4444444444444444, \"#bd3786\"], [0.5555555555555556, \"#d8576b\"], [0.6666666666666666, \"#ed7953\"], [0.7777777777777778, \"#fb9f3a\"], [0.8888888888888888, \"#fdca26\"], [1.0, \"#f0f921\"]], \"type\": \"contour\"}], \"contourcarpet\": [{\"colorbar\": {\"outlinewidth\": 0, \"ticks\": \"\"}, \"type\": \"contourcarpet\"}], \"heatmap\": [{\"colorbar\": {\"outlinewidth\": 0, \"ticks\": \"\"}, \"colorscale\": [[0.0, \"#0d0887\"], [0.1111111111111111, \"#46039f\"], [0.2222222222222222, \"#7201a8\"], [0.3333333333333333, \"#9c179e\"], [0.4444444444444444, \"#bd3786\"], [0.5555555555555556, \"#d8576b\"], [0.6666666666666666, \"#ed7953\"], [0.7777777777777778, \"#fb9f3a\"], [0.8888888888888888, \"#fdca26\"], [1.0, \"#f0f921\"]], \"type\": \"heatmap\"}], \"heatmapgl\": [{\"colorbar\": {\"outlinewidth\": 0, \"ticks\": \"\"}, \"colorscale\": [[0.0, \"#0d0887\"], [0.1111111111111111, \"#46039f\"], [0.2222222222222222, \"#7201a8\"], [0.3333333333333333, \"#9c179e\"], [0.4444444444444444, \"#bd3786\"], [0.5555555555555556, \"#d8576b\"], [0.6666666666666666, \"#ed7953\"], [0.7777777777777778, \"#fb9f3a\"], [0.8888888888888888, \"#fdca26\"], [1.0, \"#f0f921\"]], \"type\": \"heatmapgl\"}], \"histogram\": [{\"marker\": {\"colorbar\": {\"outlinewidth\": 0, \"ticks\": \"\"}}, \"type\": \"histogram\"}], \"histogram2d\": [{\"colorbar\": {\"outlinewidth\": 0, \"ticks\": \"\"}, \"colorscale\": [[0.0, \"#0d0887\"], [0.1111111111111111, \"#46039f\"], [0.2222222222222222, \"#7201a8\"], [0.3333333333333333, \"#9c179e\"], [0.4444444444444444, \"#bd3786\"], [0.5555555555555556, \"#d8576b\"], [0.6666666666666666, \"#ed7953\"], [0.7777777777777778, \"#fb9f3a\"], [0.8888888888888888, \"#fdca26\"], [1.0, \"#f0f921\"]], \"type\": \"histogram2d\"}], \"histogram2dcontour\": [{\"colorbar\": {\"outlinewidth\": 0, \"ticks\": \"\"}, \"colorscale\": [[0.0, \"#0d0887\"], [0.1111111111111111, \"#46039f\"], [0.2222222222222222, \"#7201a8\"], [0.3333333333333333, \"#9c179e\"], [0.4444444444444444, \"#bd3786\"], [0.5555555555555556, \"#d8576b\"], [0.6666666666666666, \"#ed7953\"], [0.7777777777777778, \"#fb9f3a\"], [0.8888888888888888, \"#fdca26\"], [1.0, \"#f0f921\"]], \"type\": \"histogram2dcontour\"}], \"mesh3d\": [{\"colorbar\": {\"outlinewidth\": 0, \"ticks\": \"\"}, \"type\": \"mesh3d\"}], \"parcoords\": [{\"line\": {\"colorbar\": {\"outlinewidth\": 0, \"ticks\": \"\"}}, \"type\": \"parcoords\"}], \"pie\": [{\"automargin\": true, \"type\": \"pie\"}], \"scatter\": [{\"marker\": {\"colorbar\": {\"outlinewidth\": 0, \"ticks\": \"\"}}, \"type\": \"scatter\"}], \"scatter3d\": [{\"line\": {\"colorbar\": {\"outlinewidth\": 0, \"ticks\": \"\"}}, \"marker\": {\"colorbar\": {\"outlinewidth\": 0, \"ticks\": \"\"}}, \"type\": \"scatter3d\"}], \"scattercarpet\": [{\"marker\": {\"colorbar\": {\"outlinewidth\": 0, \"ticks\": \"\"}}, \"type\": \"scattercarpet\"}], \"scattergeo\": [{\"marker\": {\"colorbar\": {\"outlinewidth\": 0, \"ticks\": \"\"}}, \"type\": \"scattergeo\"}], \"scattergl\": [{\"marker\": {\"colorbar\": {\"outlinewidth\": 0, \"ticks\": \"\"}}, \"type\": \"scattergl\"}], \"scattermapbox\": [{\"marker\": {\"colorbar\": {\"outlinewidth\": 0, \"ticks\": \"\"}}, \"type\": \"scattermapbox\"}], \"scatterpolar\": [{\"marker\": {\"colorbar\": {\"outlinewidth\": 0, \"ticks\": \"\"}}, \"type\": \"scatterpolar\"}], \"scatterpolargl\": [{\"marker\": {\"colorbar\": {\"outlinewidth\": 0, \"ticks\": \"\"}}, \"type\": \"scatterpolargl\"}], \"scatterternary\": [{\"marker\": {\"colorbar\": {\"outlinewidth\": 0, \"ticks\": \"\"}}, \"type\": \"scatterternary\"}], \"surface\": [{\"colorbar\": {\"outlinewidth\": 0, \"ticks\": \"\"}, \"colorscale\": [[0.0, \"#0d0887\"], [0.1111111111111111, \"#46039f\"], [0.2222222222222222, \"#7201a8\"], [0.3333333333333333, \"#9c179e\"], [0.4444444444444444, \"#bd3786\"], [0.5555555555555556, \"#d8576b\"], [0.6666666666666666, \"#ed7953\"], [0.7777777777777778, \"#fb9f3a\"], [0.8888888888888888, \"#fdca26\"], [1.0, \"#f0f921\"]], \"type\": \"surface\"}], \"table\": [{\"cells\": {\"fill\": {\"color\": \"#EBF0F8\"}, \"line\": {\"color\": \"white\"}}, \"header\": {\"fill\": {\"color\": \"#C8D4E3\"}, \"line\": {\"color\": \"white\"}}, \"type\": \"table\"}]}, \"layout\": {\"annotationdefaults\": {\"arrowcolor\": \"#2a3f5f\", \"arrowhead\": 0, \"arrowwidth\": 1}, \"coloraxis\": {\"colorbar\": {\"outlinewidth\": 0, \"ticks\": \"\"}}, \"colorscale\": {\"diverging\": [[0, \"#8e0152\"], [0.1, \"#c51b7d\"], [0.2, \"#de77ae\"], [0.3, \"#f1b6da\"], [0.4, \"#fde0ef\"], [0.5, \"#f7f7f7\"], [0.6, \"#e6f5d0\"], [0.7, \"#b8e186\"], [0.8, \"#7fbc41\"], [0.9, \"#4d9221\"], [1, \"#276419\"]], \"sequential\": [[0.0, \"#0d0887\"], [0.1111111111111111, \"#46039f\"], [0.2222222222222222, \"#7201a8\"], [0.3333333333333333, \"#9c179e\"], [0.4444444444444444, \"#bd3786\"], [0.5555555555555556, \"#d8576b\"], [0.6666666666666666, \"#ed7953\"], [0.7777777777777778, \"#fb9f3a\"], [0.8888888888888888, \"#fdca26\"], [1.0, \"#f0f921\"]], \"sequentialminus\": [[0.0, \"#0d0887\"], [0.1111111111111111, \"#46039f\"], [0.2222222222222222, \"#7201a8\"], [0.3333333333333333, \"#9c179e\"], [0.4444444444444444, \"#bd3786\"], [0.5555555555555556, \"#d8576b\"], [0.6666666666666666, \"#ed7953\"], [0.7777777777777778, \"#fb9f3a\"], [0.8888888888888888, \"#fdca26\"], [1.0, \"#f0f921\"]]}, \"colorway\": [\"#636efa\", \"#EF553B\", \"#00cc96\", \"#ab63fa\", \"#FFA15A\", \"#19d3f3\", \"#FF6692\", \"#B6E880\", \"#FF97FF\", \"#FECB52\"], \"font\": {\"color\": \"#2a3f5f\"}, \"geo\": {\"bgcolor\": \"white\", \"lakecolor\": \"white\", \"landcolor\": \"#E5ECF6\", \"showlakes\": true, \"showland\": true, \"subunitcolor\": \"white\"}, \"hoverlabel\": {\"align\": \"left\"}, \"hovermode\": \"closest\", \"mapbox\": {\"style\": \"light\"}, \"paper_bgcolor\": \"white\", \"plot_bgcolor\": \"#E5ECF6\", \"polar\": {\"angularaxis\": {\"gridcolor\": \"white\", \"linecolor\": \"white\", \"ticks\": \"\"}, \"bgcolor\": \"#E5ECF6\", \"radialaxis\": {\"gridcolor\": \"white\", \"linecolor\": \"white\", \"ticks\": \"\"}}, \"scene\": {\"xaxis\": {\"backgroundcolor\": \"#E5ECF6\", \"gridcolor\": \"white\", \"gridwidth\": 2, \"linecolor\": \"white\", \"showbackground\": true, \"ticks\": \"\", \"zerolinecolor\": \"white\"}, \"yaxis\": {\"backgroundcolor\": \"#E5ECF6\", \"gridcolor\": \"white\", \"gridwidth\": 2, \"linecolor\": \"white\", \"showbackground\": true, \"ticks\": \"\", \"zerolinecolor\": \"white\"}, \"zaxis\": {\"backgroundcolor\": \"#E5ECF6\", \"gridcolor\": \"white\", \"gridwidth\": 2, \"linecolor\": \"white\", \"showbackground\": true, \"ticks\": \"\", \"zerolinecolor\": \"white\"}}, \"shapedefaults\": {\"line\": {\"color\": \"#2a3f5f\"}}, \"ternary\": {\"aaxis\": {\"gridcolor\": \"white\", \"linecolor\": \"white\", \"ticks\": \"\"}, \"baxis\": {\"gridcolor\": \"white\", \"linecolor\": \"white\", \"ticks\": \"\"}, \"bgcolor\": \"#E5ECF6\", \"caxis\": {\"gridcolor\": \"white\", \"linecolor\": \"white\", \"ticks\": \"\"}}, \"title\": {\"x\": 0.05}, \"xaxis\": {\"automargin\": true, \"gridcolor\": \"white\", \"linecolor\": \"white\", \"ticks\": \"\", \"title\": {\"standoff\": 15}, \"zerolinecolor\": \"white\", \"zerolinewidth\": 2}, \"yaxis\": {\"automargin\": true, \"gridcolor\": \"white\", \"linecolor\": \"white\", \"ticks\": \"\", \"title\": {\"standoff\": 15}, \"zerolinecolor\": \"white\", \"zerolinewidth\": 2}}}},\n",
       "                        {\"responsive\": true}\n",
       "                    ).then(function(){\n",
       "                            \n",
       "var gd = document.getElementById('6e1e88e8-237c-4d3d-a708-4c7720c2d567');\n",
       "var x = new MutationObserver(function (mutations, observer) {{\n",
       "        var display = window.getComputedStyle(gd).display;\n",
       "        if (!display || display === 'none') {{\n",
       "            console.log([gd, 'removed!']);\n",
       "            Plotly.purge(gd);\n",
       "            observer.disconnect();\n",
       "        }}\n",
       "}});\n",
       "\n",
       "// Listen for the removal of the full notebook cells\n",
       "var notebookContainer = gd.closest('#notebook-container');\n",
       "if (notebookContainer) {{\n",
       "    x.observe(notebookContainer, {childList: true});\n",
       "}}\n",
       "\n",
       "// Listen for the clearing of the current output cell\n",
       "var outputEl = gd.closest('.output');\n",
       "if (outputEl) {{\n",
       "    x.observe(outputEl, {childList: true});\n",
       "}}\n",
       "\n",
       "                        })\n",
       "                };\n",
       "                });\n",
       "            </script>\n",
       "        </div>"
      ]
     },
     "metadata": {},
     "output_type": "display_data"
    }
   ],
   "source": [
    "fig = px.scatter_mapbox(lat=[lat[1] for lat in name_lat_long], \n",
    "                        lon=[long[2] for long in name_lat_long],\n",
    "                        hover_name=[name[0] for name in name_lat_long]\n",
    "           )\n",
    "\n",
    "\n",
    "fig.update_layout(mapbox_style=\"open-street-map\")\n",
    "fig.update_layout(margin={\"r\":0,\"t\":0,\"l\":0,\"b\":0})"
   ]
  },
  {
   "cell_type": "code",
   "execution_count": 127,
   "metadata": {},
   "outputs": [
    {
     "data": {
      "text/plain": [
       "('Chun Yang Tea - Flushing New York', 40.758001, -73.8299476772982)"
      ]
     },
     "execution_count": 127,
     "metadata": {},
     "output_type": "execute_result"
    }
   ],
   "source": [
    "name_lat_long[0]"
   ]
  },
  {
   "cell_type": "code",
   "execution_count": null,
   "metadata": {},
   "outputs": [],
   "source": []
  }
 ],
 "metadata": {
  "kernelspec": {
   "display_name": "Python 3",
   "language": "python",
   "name": "python3"
  },
  "language_info": {
   "codemirror_mode": {
    "name": "ipython",
    "version": 3
   },
   "file_extension": ".py",
   "mimetype": "text/x-python",
   "name": "python",
   "nbconvert_exporter": "python",
   "pygments_lexer": "ipython3",
   "version": "3.8.4rc1"
  }
 },
 "nbformat": 4,
 "nbformat_minor": 4
}
